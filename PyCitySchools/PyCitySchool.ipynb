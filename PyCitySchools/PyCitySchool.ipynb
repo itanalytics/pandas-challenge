{
 "cells": [
  {
   "cell_type": "code",
   "execution_count": 1,
   "metadata": {},
   "outputs": [],
   "source": [
    "#Import Dependencies\n",
    "import pandas as pd\n",
    "import os"
   ]
  },
  {
   "cell_type": "code",
   "execution_count": 2,
   "id": "b3dffd6c",
   "metadata": {},
   "outputs": [],
   "source": [
    "#Create filepaths for csv files with school data\n",
    "school_data_file = \"Resources/schools_complete.csv\"\n",
    "#school_data_file = os.path.join(\"Resources\",\"school_complete.csv\")\n",
    "student_data_file = \"Resources/students_complete.csv\"\n",
    "#student_data_file = os.path.join(\"Resources\",\"students_complete.csv\")"
   ]
  },
  {
   "cell_type": "code",
   "execution_count": 3,
   "id": "f63e2470",
   "metadata": {},
   "outputs": [],
   "source": [
    "#Read school and student data into DataFrames\n",
    "school_df = pd.read_csv(school_data_file)\n",
    "student_df = pd.read_csv(student_data_file)\n"
   ]
  },
  {
   "cell_type": "code",
   "execution_count": 4,
   "id": "67e07ee6",
   "metadata": {},
   "outputs": [
    {
     "data": {
      "text/html": [
       "<div>\n",
       "<style scoped>\n",
       "    .dataframe tbody tr th:only-of-type {\n",
       "        vertical-align: middle;\n",
       "    }\n",
       "\n",
       "    .dataframe tbody tr th {\n",
       "        vertical-align: top;\n",
       "    }\n",
       "\n",
       "    .dataframe thead th {\n",
       "        text-align: right;\n",
       "    }\n",
       "</style>\n",
       "<table border=\"1\" class=\"dataframe\">\n",
       "  <thead>\n",
       "    <tr style=\"text-align: right;\">\n",
       "      <th></th>\n",
       "      <th>Student ID</th>\n",
       "      <th>student_name</th>\n",
       "      <th>gender</th>\n",
       "      <th>grade</th>\n",
       "      <th>school_name</th>\n",
       "      <th>reading_score</th>\n",
       "      <th>math_score</th>\n",
       "      <th>School ID</th>\n",
       "      <th>type</th>\n",
       "      <th>size</th>\n",
       "      <th>budget</th>\n",
       "    </tr>\n",
       "  </thead>\n",
       "  <tbody>\n",
       "    <tr>\n",
       "      <th>0</th>\n",
       "      <td>0</td>\n",
       "      <td>Paul Bradley</td>\n",
       "      <td>M</td>\n",
       "      <td>9th</td>\n",
       "      <td>Huang High School</td>\n",
       "      <td>66</td>\n",
       "      <td>79</td>\n",
       "      <td>0</td>\n",
       "      <td>District</td>\n",
       "      <td>2917</td>\n",
       "      <td>1910635</td>\n",
       "    </tr>\n",
       "    <tr>\n",
       "      <th>1</th>\n",
       "      <td>1</td>\n",
       "      <td>Victor Smith</td>\n",
       "      <td>M</td>\n",
       "      <td>12th</td>\n",
       "      <td>Huang High School</td>\n",
       "      <td>94</td>\n",
       "      <td>61</td>\n",
       "      <td>0</td>\n",
       "      <td>District</td>\n",
       "      <td>2917</td>\n",
       "      <td>1910635</td>\n",
       "    </tr>\n",
       "    <tr>\n",
       "      <th>2</th>\n",
       "      <td>2</td>\n",
       "      <td>Kevin Rodriguez</td>\n",
       "      <td>M</td>\n",
       "      <td>12th</td>\n",
       "      <td>Huang High School</td>\n",
       "      <td>90</td>\n",
       "      <td>60</td>\n",
       "      <td>0</td>\n",
       "      <td>District</td>\n",
       "      <td>2917</td>\n",
       "      <td>1910635</td>\n",
       "    </tr>\n",
       "    <tr>\n",
       "      <th>3</th>\n",
       "      <td>3</td>\n",
       "      <td>Dr. Richard Scott</td>\n",
       "      <td>M</td>\n",
       "      <td>12th</td>\n",
       "      <td>Huang High School</td>\n",
       "      <td>67</td>\n",
       "      <td>58</td>\n",
       "      <td>0</td>\n",
       "      <td>District</td>\n",
       "      <td>2917</td>\n",
       "      <td>1910635</td>\n",
       "    </tr>\n",
       "    <tr>\n",
       "      <th>4</th>\n",
       "      <td>4</td>\n",
       "      <td>Bonnie Ray</td>\n",
       "      <td>F</td>\n",
       "      <td>9th</td>\n",
       "      <td>Huang High School</td>\n",
       "      <td>97</td>\n",
       "      <td>84</td>\n",
       "      <td>0</td>\n",
       "      <td>District</td>\n",
       "      <td>2917</td>\n",
       "      <td>1910635</td>\n",
       "    </tr>\n",
       "  </tbody>\n",
       "</table>\n",
       "</div>"
      ],
      "text/plain": [
       "   Student ID       student_name gender grade        school_name  \\\n",
       "0           0       Paul Bradley      M   9th  Huang High School   \n",
       "1           1       Victor Smith      M  12th  Huang High School   \n",
       "2           2    Kevin Rodriguez      M  12th  Huang High School   \n",
       "3           3  Dr. Richard Scott      M  12th  Huang High School   \n",
       "4           4         Bonnie Ray      F   9th  Huang High School   \n",
       "\n",
       "   reading_score  math_score  School ID      type  size   budget  \n",
       "0             66          79          0  District  2917  1910635  \n",
       "1             94          61          0  District  2917  1910635  \n",
       "2             90          60          0  District  2917  1910635  \n",
       "3             67          58          0  District  2917  1910635  \n",
       "4             97          84          0  District  2917  1910635  "
      ]
     },
     "execution_count": 4,
     "metadata": {},
     "output_type": "execute_result"
    }
   ],
   "source": [
    "#Merge DataFrames to complete analysis\n",
    "students_schools_complete = pd.merge(student_df,school_df,how=\"left\",on=\"school_name\")\n",
    "students_schools_complete.head()"
   ]
  },
  {
   "cell_type": "markdown",
   "id": "4ddc7376",
   "metadata": {},
   "source": [
    "## District Summary"
   ]
  },
  {
   "cell_type": "code",
   "execution_count": 5,
   "id": "612ccc94",
   "metadata": {},
   "outputs": [
    {
     "name": "stdout",
     "output_type": "stream",
     "text": [
      "15\n"
     ]
    }
   ],
   "source": [
    "#Calculate # of schools\n",
    "total_schools =len(students_schools_complete[\"school_name\"].unique())\n",
    "print(total_schools)"
   ]
  },
  {
   "cell_type": "code",
   "execution_count": 6,
   "id": "e1a09574",
   "metadata": {},
   "outputs": [
    {
     "name": "stdout",
     "output_type": "stream",
     "text": [
      "39170\n"
     ]
    }
   ],
   "source": [
    "#Calculate # of students\n",
    "total_students= students_schools_complete[\"Student ID\"].count()\n",
    "print(total_students)"
   ]
  },
  {
   "cell_type": "code",
   "execution_count": 15,
   "id": "98e7b203",
   "metadata": {},
   "outputs": [
    {
     "name": "stdout",
     "output_type": "stream",
     "text": [
      "24649428\n"
     ]
    }
   ],
   "source": [
    "#Calculate district budget\n",
    "total_budget = school_df['budget'].sum()\n",
    "print(total_budget)\n"
   ]
  },
  {
   "cell_type": "code",
   "execution_count": 16,
   "id": "58a334e4",
   "metadata": {},
   "outputs": [
    {
     "name": "stdout",
     "output_type": "stream",
     "text": [
      "78.98537145774827\n"
     ]
    }
   ],
   "source": [
    "#Calculate average math score of all students\n",
    "avg_math_score = students_schools_complete['math_score'].mean()\n",
    "print(avg_math_score)\n"
   ]
  },
  {
   "cell_type": "code",
   "execution_count": 17,
   "id": "a384fb9f",
   "metadata": {},
   "outputs": [
    {
     "name": "stdout",
     "output_type": "stream",
     "text": [
      "81.87784018381414\n"
     ]
    }
   ],
   "source": [
    "#Calculate average reading score of all students\n",
    "avg_reading_score = students_schools_complete['reading_score'].mean()\n",
    "print(avg_reading_score)"
   ]
  },
  {
   "cell_type": "code",
   "execution_count": 18,
   "id": "0ff03736",
   "metadata": {},
   "outputs": [
    {
     "name": "stdout",
     "output_type": "stream",
     "text": [
      "74.9808526933878\n"
     ]
    }
   ],
   "source": [
    "#Calculate % of students with a passing math score\n",
    "passing_math_count = students_schools_complete[(students_schools_complete[\"math_score\"] >= 70)].count()[\"student_name\"]\n",
    "percent_passing_math = passing_math_count / float(total_students) * 100\n",
    "print(percent_passing_math)\n"
   ]
  },
  {
   "cell_type": "code",
   "execution_count": 20,
   "id": "02d0ee84",
   "metadata": {},
   "outputs": [
    {
     "name": "stdout",
     "output_type": "stream",
     "text": [
      "85.80546336482001\n"
     ]
    }
   ],
   "source": [
    "#Calculate % of students with a passing reading score\n",
    "passing_reading_count = students_schools_complete[(students_schools_complete[\"reading_score\"] >= 70)].count()[\"student_name\"]\n",
    "percent_passing_reading = passing_reading_count / float(total_students) * 100\n",
    "print(percent_passing_reading)\n"
   ]
  },
  {
   "cell_type": "code",
   "execution_count": 22,
   "id": "aaaba8c9",
   "metadata": {},
   "outputs": [
    {
     "name": "stdout",
     "output_type": "stream",
     "text": [
      "65.17232575950983\n"
     ]
    }
   ],
   "source": [
    "#Calculate % of students with passing scores for both math and reading\n",
    "passing_math_reading_count = students_schools_complete[\n",
    "    (students_schools_complete[\"math_score\"] >= 70) & (students_schools_complete[\"reading_score\"] >= 70)\n",
    "].count()[\"student_name\"]\n",
    "percent_passing_overall = passing_math_reading_count / float(total_students) *100\n",
    "print(percent_passing_overall) "
   ]
  },
  {
   "cell_type": "code",
   "execution_count": 26,
   "id": "d293fd65",
   "metadata": {},
   "outputs": [
    {
     "data": {
      "text/html": [
       "<div>\n",
       "<style scoped>\n",
       "    .dataframe tbody tr th:only-of-type {\n",
       "        vertical-align: middle;\n",
       "    }\n",
       "\n",
       "    .dataframe tbody tr th {\n",
       "        vertical-align: top;\n",
       "    }\n",
       "\n",
       "    .dataframe thead th {\n",
       "        text-align: right;\n",
       "    }\n",
       "</style>\n",
       "<table border=\"1\" class=\"dataframe\">\n",
       "  <thead>\n",
       "    <tr style=\"text-align: right;\">\n",
       "      <th></th>\n",
       "      <th>Total Schools</th>\n",
       "      <th>Total Students</th>\n",
       "      <th>Total Budget</th>\n",
       "      <th>Average Math Score</th>\n",
       "      <th>Average Reading Score</th>\n",
       "      <th>% Passing Math</th>\n",
       "      <th>% Passing Reading</th>\n",
       "      <th>% Overall Passing</th>\n",
       "    </tr>\n",
       "  </thead>\n",
       "  <tbody>\n",
       "    <tr>\n",
       "      <th>0</th>\n",
       "      <td>15</td>\n",
       "      <td>39170</td>\n",
       "      <td>24649428</td>\n",
       "      <td>78.985371</td>\n",
       "      <td>81.87784</td>\n",
       "      <td>74.980853</td>\n",
       "      <td>85.805463</td>\n",
       "      <td>65.172326</td>\n",
       "    </tr>\n",
       "  </tbody>\n",
       "</table>\n",
       "</div>"
      ],
      "text/plain": [
       "   Total Schools  Total Students  Total Budget  Average Math Score  \\\n",
       "0             15           39170      24649428           78.985371   \n",
       "\n",
       "   Average Reading Score  % Passing Math  % Passing Reading  % Overall Passing  \n",
       "0               81.87784       74.980853          85.805463          65.172326  "
      ]
     },
     "execution_count": 26,
     "metadata": {},
     "output_type": "execute_result"
    }
   ],
   "source": [
    "#Create a DataFrame to display the district's key metrics\n",
    "district_summary = pd.DataFrame({\"Total Schools\":[total_schools],\"Total Students\":[total_students]\n",
    ", \"Total Budget\":[total_budget], \"Average Math Score\":[avg_math_score],\"Average Reading Score\":[avg_reading_score]\n",
    ", \"% Passing Math\":[percent_passing_math],\"% Passing Reading\":[percent_passing_reading],\"% Overall Passing\":[percent_passing_overall]})\n",
    "\n",
    "# Formatting\n",
    "#district_summary[\"Total Students\"] = district_summary[\"Total Students\"].map(\"{:,}\".format)\n",
    "#district_summary[\"Total Budget\"] = district_summary[\"Total Budget\"].map(\"${:,.2f}\".format)\n",
    "#district_summary[\"Average Math Score\"] = district_summary[\"Average Math Score\"].map(\"{:.2f}\".format)\n",
    "#district_summary[\"Average Reading Score\"] = district_summary[\"Average Reading Score\"].map(\"{:.2f}\".format) \n",
    "#district_summary[\"% Passing Math\"] = district_summary[\"% Passing Math\"].map(\"{:.2f}%\".format)\n",
    "#district_summary[\"% Passing Reading\"] = district_summary[\"% Passing Reading\"].map(\"{:.2f}%\".format) \n",
    "#district_summary[\"% Overall Passing\"] = district_summary[\"% Overall Passing\"].map(\"{:.2f}%\".format)   \n",
    "\n",
    "#district_summary"
   ]
  },
  {
   "cell_type": "markdown",
   "id": "86859cca",
   "metadata": {},
   "source": [
    "## School Summary"
   ]
  },
  {
   "cell_type": "code",
   "execution_count": null,
   "id": "bcaca174",
   "metadata": {},
   "outputs": [],
   "source": [
    "school_name = school_df[\"school_name\"]"
   ]
  },
  {
   "cell_type": "code",
   "execution_count": null,
   "id": "71bf7367",
   "metadata": {},
   "outputs": [],
   "source": [
    "school_types = school_df.set_index([\"school_name\"])[\"type\"]"
   ]
  },
  {
   "cell_type": "code",
   "execution_count": null,
   "id": "4a07d765",
   "metadata": {},
   "outputs": [],
   "source": [
    "per_school_students = students_schools_complete.groupby([\"school_name\"]).count()[\"Student ID\"]\n"
   ]
  },
  {
   "cell_type": "code",
   "execution_count": null,
   "id": "752505e5",
   "metadata": {},
   "outputs": [],
   "source": [
    "per_school_budget = students_schools_complete.groupby([\"school_name\"]).mean()[\"budget\"]\n",
    "per_school_capita = per_school_budget / per_school_students"
   ]
  },
  {
   "cell_type": "code",
   "execution_count": null,
   "id": "62bd5fcb",
   "metadata": {},
   "outputs": [],
   "source": []
  },
  {
   "cell_type": "code",
   "execution_count": null,
   "id": "ee729ea6",
   "metadata": {},
   "outputs": [],
   "source": []
  },
  {
   "cell_type": "code",
   "execution_count": null,
   "id": "d051fc38",
   "metadata": {},
   "outputs": [],
   "source": []
  }
 ],
 "metadata": {
  "kernelspec": {
   "display_name": "Python 3.9.12 ('base')",
   "language": "python",
   "name": "python3"
  },
  "language_info": {
   "codemirror_mode": {
    "name": "ipython",
    "version": 3
   },
   "file_extension": ".py",
   "mimetype": "text/x-python",
   "name": "python",
   "nbconvert_exporter": "python",
   "pygments_lexer": "ipython3",
   "version": "3.9.12"
  },
  "vscode": {
   "interpreter": {
    "hash": "545ca857da9e94b3c655ab355bd27153c36785e8b97b5a7c0076172ececba3e4"
   }
  }
 },
 "nbformat": 4,
 "nbformat_minor": 5
}
